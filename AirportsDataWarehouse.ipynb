{
 "cells": [
  {
   "cell_type": "code",
   "execution_count": null,
   "metadata": {},
   "outputs": [],
   "source": [
    "#FLight Data\n",
    "#In the previous exercise, you joined data from flights and airport codes to create a report. \n",
    "#Create an external table for airport_codes and domestic_flights from the \n",
    "#domestic-flights/flights.parquet and airport-codes/airport-codes.csv files. \n",
    "#Recreate the report of top ten airports for 2008 using Spark SQL instead of dataframes.\n",
    "\n",
    "file_location = \"/FileStore/tables/flights.parquet\"\n",
    "airport_codes_path = \"/FileStore/tables/airport_codes-e62ed.csv\"\n",
    "\n",
    "df_flights = spark.read.parquet(file_location)\n",
    "df_airport_codes = spark.read.load(\n",
    "  airport_codes_path,\n",
    "  format=\"csv\",\n",
    "  sep=\",\",\n",
    "  inferSchema=True,\n",
    "  header=True\n",
    ")\n",
    "\n",
    "df_flights.write.saveAsTable('domestic_flights')\n",
    "df_airport_codes.write.saveAsTable('airport_codes')"
   ]
  },
  {
   "cell_type": "code",
   "execution_count": null,
   "metadata": {},
   "outputs": [],
   "source": [
    "#TESTING\n",
    "#spark.sql(\"DROP TABLE domestic_flights\").show()\n",
    "#spark.sql(\"DROP TABLE IF EXISTS airport_codes\").show()"
   ]
  },
  {
   "cell_type": "code",
   "execution_count": null,
   "metadata": {},
   "outputs": [],
   "source": [
    "\n",
    "spark.sql(\"SELECT * FROM domestic_flights LIMIT 10\").show()"
   ]
  },
  {
   "cell_type": "code",
   "execution_count": null,
   "metadata": {},
   "outputs": [],
   "source": [
    "spark.sql(\"SELECT * FROM airport_codes LIMIT 10\").show()"
   ]
  },
  {
   "cell_type": "code",
   "execution_count": null,
   "metadata": {},
   "outputs": [],
   "source": [
    "#top 10 flight report from week 4\n",
    "\n",
    "spark.sql(\"SELECT destination.name AS destination_airport_name, \\\n",
    "                  flights.destination_airport_code \\\n",
    "                  ,SUM(passengers) AS Total_Inbound_Passengers \\\n",
    "                  ,SUM(flights) AS Total_Inbound_Flights \\\n",
    "                  ,AVG(passengers) AS Avg_Daily_Passengers \\\n",
    "                  ,AVG(flights) AS Avg_Inbound_Flights \\\n",
    "           FROM domestic_flights flights \\\n",
    "           LEFT OUTER JOIN airport_codes destination \\\n",
    "               ON destination.iata_code = destination_airport_code \\\n",
    "           GROUP BY destination.name, flights.destination_airport_code \\\n",
    "           ORDER BY SUM(passengers) DESC \\\n",
    "           LIMIT 10 \\\n",
    "           \").show()"
   ]
  }
 ],
 "metadata": {
  "kernelspec": {
   "display_name": "Python 2",
   "language": "python",
   "name": "python2"
  },
  "language_info": {
   "codemirror_mode": {
    "name": "ipython",
    "version": 2
   },
   "file_extension": ".py",
   "mimetype": "text/x-python",
   "name": "python",
   "nbconvert_exporter": "python",
   "pygments_lexer": "ipython2",
   "version": "2.7.15"
  }
 },
 "nbformat": 4,
 "nbformat_minor": 2
}
